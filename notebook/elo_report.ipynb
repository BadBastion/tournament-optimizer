{
 "cells": [
  {
   "cell_type": "code",
   "execution_count": 23,
   "metadata": {
    "collapsed": true
   },
   "outputs": [],
   "source": [
    "import gspread\n",
    "\n",
    "gc = gspread.service_account(filename='../oauth.json')"
   ]
  },
  {
   "cell_type": "code",
   "execution_count": 27,
   "outputs": [
    {
     "data": {
      "text/plain": "             Player Games Wins    Win% AVG Game Length Going 1st %  \\\n0             Gunni    29   12  41.38%            5.38      34.48%   \n1         Joking101   190   64  33.68%            4.29      23.68%   \n2            Slippy    65   19  29.23%            4.20      30.77%   \n3           Trekr13    53   16  30.19%            3.89      22.64%   \n4  ViolentPlatyplus    44   11  25.00%            4.11      18.18%   \n\n  P1 Wins/Wins  \n0       41.67%  \n1       31.25%  \n2       31.58%  \n3       37.50%  \n4       27.27%  ",
      "text/html": "<div>\n<style scoped>\n    .dataframe tbody tr th:only-of-type {\n        vertical-align: middle;\n    }\n\n    .dataframe tbody tr th {\n        vertical-align: top;\n    }\n\n    .dataframe thead th {\n        text-align: right;\n    }\n</style>\n<table border=\"1\" class=\"dataframe\">\n  <thead>\n    <tr style=\"text-align: right;\">\n      <th></th>\n      <th>Player</th>\n      <th>Games</th>\n      <th>Wins</th>\n      <th>Win%</th>\n      <th>AVG Game Length</th>\n      <th>Going 1st %</th>\n      <th>P1 Wins/Wins</th>\n    </tr>\n  </thead>\n  <tbody>\n    <tr>\n      <th>0</th>\n      <td>Gunni</td>\n      <td>29</td>\n      <td>12</td>\n      <td>41.38%</td>\n      <td>5.38</td>\n      <td>34.48%</td>\n      <td>41.67%</td>\n    </tr>\n    <tr>\n      <th>1</th>\n      <td>Joking101</td>\n      <td>190</td>\n      <td>64</td>\n      <td>33.68%</td>\n      <td>4.29</td>\n      <td>23.68%</td>\n      <td>31.25%</td>\n    </tr>\n    <tr>\n      <th>2</th>\n      <td>Slippy</td>\n      <td>65</td>\n      <td>19</td>\n      <td>29.23%</td>\n      <td>4.20</td>\n      <td>30.77%</td>\n      <td>31.58%</td>\n    </tr>\n    <tr>\n      <th>3</th>\n      <td>Trekr13</td>\n      <td>53</td>\n      <td>16</td>\n      <td>30.19%</td>\n      <td>3.89</td>\n      <td>22.64%</td>\n      <td>37.50%</td>\n    </tr>\n    <tr>\n      <th>4</th>\n      <td>ViolentPlatyplus</td>\n      <td>44</td>\n      <td>11</td>\n      <td>25.00%</td>\n      <td>4.11</td>\n      <td>18.18%</td>\n      <td>27.27%</td>\n    </tr>\n  </tbody>\n</table>\n</div>"
     },
     "execution_count": 27,
     "metadata": {},
     "output_type": "execute_result"
    }
   ],
   "source": [
    "import pandas as pd\n",
    "\n",
    "worksheet = gc.open('tournament sheet').worksheet(\"Stats\")\n",
    "\n",
    "player_data_lables = pd.DataFrame.from_records(worksheet.get(\"A1:G1\"))\n",
    "player_data_lables = dict(player_data_lables.iloc[0])\n",
    "\n",
    "player_data = pd.DataFrame.from_records(worksheet.get(\"A2:G11\"))\n",
    "player_data = player_data.rename(columns=player_data_lables)\n",
    "\n",
    "player_data.head()"
   ],
   "metadata": {
    "collapsed": false,
    "pycharm": {
     "name": "#%%\n"
    }
   }
  }
 ],
 "metadata": {
  "kernelspec": {
   "name": "pycharm-536a6dbf",
   "language": "python",
   "display_name": "PyCharm (tournament_optimizer)"
  },
  "language_info": {
   "codemirror_mode": {
    "name": "ipython",
    "version": 2
   },
   "file_extension": ".py",
   "mimetype": "text/x-python",
   "name": "python",
   "nbconvert_exporter": "python",
   "pygments_lexer": "ipython2",
   "version": "2.7.6"
  }
 },
 "nbformat": 4,
 "nbformat_minor": 0
}