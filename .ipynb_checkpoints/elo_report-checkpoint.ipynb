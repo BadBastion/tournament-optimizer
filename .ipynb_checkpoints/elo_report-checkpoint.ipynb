{
 "cells": [
  {
   "cell_type": "code",
   "execution_count": 1,
   "metadata": {},
   "outputs": [
    {
     "name": "stdout",
     "output_type": "stream",
     "text": [
      "Login successful\n"
     ]
    }
   ],
   "source": [
    "import gspread\n",
    "\n",
    "gc = gspread.service_account(filename='./oauth.json')\n",
    "print(\"Login successful\")"
   ]
  },
  {
   "cell_type": "code",
   "execution_count": 2,
   "metadata": {
    "pycharm": {
     "name": "#%%\n"
    },
    "scrolled": false
   },
   "outputs": [
    {
     "data": {
      "text/html": [
       "<div>\n",
       "<style scoped>\n",
       "    .dataframe tbody tr th:only-of-type {\n",
       "        vertical-align: middle;\n",
       "    }\n",
       "\n",
       "    .dataframe tbody tr th {\n",
       "        vertical-align: top;\n",
       "    }\n",
       "\n",
       "    .dataframe thead th {\n",
       "        text-align: right;\n",
       "    }\n",
       "</style>\n",
       "<table border=\"1\" class=\"dataframe\">\n",
       "  <thead>\n",
       "    <tr style=\"text-align: right;\">\n",
       "      <th></th>\n",
       "      <th>0</th>\n",
       "      <th>1</th>\n",
       "      <th>2</th>\n",
       "      <th>3</th>\n",
       "    </tr>\n",
       "  </thead>\n",
       "  <tbody>\n",
       "    <tr>\n",
       "      <th>0</th>\n",
       "      <td>Horacio</td>\n",
       "      <td>Catharine</td>\n",
       "      <td>Drew</td>\n",
       "      <td>Shanti</td>\n",
       "    </tr>\n",
       "    <tr>\n",
       "      <th>1</th>\n",
       "      <td>Harriette</td>\n",
       "      <td>Halley</td>\n",
       "      <td>Libbie</td>\n",
       "      <td>See</td>\n",
       "    </tr>\n",
       "    <tr>\n",
       "      <th>2</th>\n",
       "      <td>Moses</td>\n",
       "      <td>Jolynn</td>\n",
       "      <td>Mamie</td>\n",
       "      <td>Melva</td>\n",
       "    </tr>\n",
       "    <tr>\n",
       "      <th>3</th>\n",
       "      <td>Joseph</td>\n",
       "      <td>Glynda</td>\n",
       "      <td>Halley</td>\n",
       "      <td>Onita</td>\n",
       "    </tr>\n",
       "    <tr>\n",
       "      <th>4</th>\n",
       "      <td>Latoyia</td>\n",
       "      <td>Halley</td>\n",
       "      <td>Erwin</td>\n",
       "      <td>Synthia</td>\n",
       "    </tr>\n",
       "    <tr>\n",
       "      <th>5</th>\n",
       "      <td>Nelida</td>\n",
       "      <td>Veronika</td>\n",
       "      <td>Moses</td>\n",
       "      <td>Rudy</td>\n",
       "    </tr>\n",
       "    <tr>\n",
       "      <th>6</th>\n",
       "      <td>Olevia</td>\n",
       "      <td>Harriette</td>\n",
       "      <td>Louann</td>\n",
       "      <td>Dale</td>\n",
       "    </tr>\n",
       "    <tr>\n",
       "      <th>7</th>\n",
       "      <td>Dan</td>\n",
       "      <td>Emile</td>\n",
       "      <td>Clarinda</td>\n",
       "      <td>Shanti</td>\n",
       "    </tr>\n",
       "    <tr>\n",
       "      <th>8</th>\n",
       "      <td>Bud</td>\n",
       "      <td>Ellamae</td>\n",
       "      <td>Olevia</td>\n",
       "      <td>Dale</td>\n",
       "    </tr>\n",
       "    <tr>\n",
       "      <th>9</th>\n",
       "      <td>Emile</td>\n",
       "      <td>Melva</td>\n",
       "      <td>Catharine</td>\n",
       "      <td>Jimmie</td>\n",
       "    </tr>\n",
       "  </tbody>\n",
       "</table>\n",
       "</div>"
      ],
      "text/plain": [
       "           0          1          2        3\n",
       "0    Horacio  Catharine       Drew   Shanti\n",
       "1  Harriette     Halley     Libbie      See\n",
       "2      Moses     Jolynn      Mamie    Melva\n",
       "3     Joseph     Glynda     Halley    Onita\n",
       "4    Latoyia     Halley      Erwin  Synthia\n",
       "5     Nelida   Veronika      Moses     Rudy\n",
       "6     Olevia  Harriette     Louann     Dale\n",
       "7        Dan      Emile   Clarinda   Shanti\n",
       "8        Bud    Ellamae     Olevia     Dale\n",
       "9      Emile      Melva  Catharine   Jimmie"
      ]
     },
     "execution_count": 2,
     "metadata": {},
     "output_type": "execute_result"
    }
   ],
   "source": [
    "import pandas as pd\n",
    "from src.tournament import Table, Player\n",
    "\n",
    "worksheet = gc.open('Sample Data Spreadsheet').worksheet(\"Games\")\n",
    "\n",
    "games = pd.DataFrame.from_records(worksheet.get(\"Games\"))\n",
    "players = pd.DataFrame.from_records(worksheet.get(\"Players\"))\n",
    "waiting_players_list = pd.DataFrame.from_records(worksheet.get(\"WaitingPlayers\"))\n",
    "\n",
    "games.head(10)"
   ]
  },
  {
   "cell_type": "code",
   "execution_count": 3,
   "metadata": {
    "scrolled": true
   },
   "outputs": [
    {
     "name": "stdout",
     "output_type": "stream",
     "text": [
      "Tables = 557, Players = 50\n"
     ]
    }
   ],
   "source": [
    "from src.tournament import Table, Player\n",
    "\n",
    "player_history = {}\n",
    "def init_player_history(name):\n",
    "    player_history[name] = Player(name)\n",
    "    \n",
    "waiting_players = {}\n",
    "def init_waiting_players(name):\n",
    "    waiting_players[name] = True\n",
    "\n",
    "for i, player in players.iterrows():\n",
    "    init_player_history(player[0])\n",
    "    \n",
    "\n",
    "    \n",
    "games_with_player = games.applymap(lambda x: player_history[x])\n",
    "games_with_tables = games_with_player.apply(lambda game: Table(players=game), axis=1)\n",
    "\n",
    "games_with_tables.head(10)\n",
    "\n",
    "print(f'Tables = {games_with_tables.shape[0]}, Players = {len(players)}')"
   ]
  },
  {
   "cell_type": "code",
   "execution_count": 4,
   "metadata": {},
   "outputs": [],
   "source": [
    "def update_player_histories(table):\n",
    "    for player in table:\n",
    "        player.play_table(table)\n",
    "    return table\n",
    "\n",
    "tabled_games = games_with_tables.apply(update_player_histories)"
   ]
  },
  {
   "cell_type": "code",
   "execution_count": 15,
   "metadata": {
    "scrolled": true
   },
   "outputs": [
    {
     "name": "stdout",
     "output_type": "stream",
     "text": [
      "26.258823869319443\n",
      "[[Lynsey, Mamie, Erwin, Clarinda], [Ella, Nelida, Madeleine, Joseph], [Latoyia, Dale, Lucila, Alethea], [Rudy, Romana, Louann, Terese], [Jolynn, Onita, See, Allena], [Kaycee, Ellamae, Jimmie]]\n"
     ]
    }
   ],
   "source": [
    "from src.simulated_annealing import simulated_annealing\n",
    "\n",
    "waiting_player_history = []\n",
    "\n",
    "for i, player in waiting_players_list.iterrows():\n",
    "    waiting_player_history.append(player_history[player[0]])\n",
    "\n",
    "result, cost = simulated_annealing(waiting_player_history, 4, 100000)\n",
    "\n",
    "print(cost)\n",
    "print(result)"
   ]
  },
  {
   "cell_type": "code",
   "execution_count": null,
   "metadata": {},
   "outputs": [],
   "source": []
  }
 ],
 "metadata": {
  "kernelspec": {
   "display_name": "Python 3",
   "language": "python",
   "name": "python3"
  },
  "language_info": {
   "codemirror_mode": {
    "name": "ipython",
    "version": 3
   },
   "file_extension": ".py",
   "mimetype": "text/x-python",
   "name": "python",
   "nbconvert_exporter": "python",
   "pygments_lexer": "ipython3",
   "version": "3.8.5"
  }
 },
 "nbformat": 4,
 "nbformat_minor": 1
}
