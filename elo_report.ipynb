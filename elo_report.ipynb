{
 "cells": [
  {
   "cell_type": "code",
   "execution_count": 1,
   "metadata": {},
   "outputs": [
    {
     "name": "stdout",
     "output_type": "stream",
     "text": [
      "Login successful\n"
     ]
    }
   ],
   "source": [
    "import gspread\n",
    "\n",
    "gc = gspread.service_account(filename='./oauth.json')\n",
    "print(\"Login successful\")"
   ]
  },
  {
   "cell_type": "code",
   "execution_count": 2,
   "metadata": {
    "pycharm": {
     "name": "#%%\n"
    },
    "scrolled": false
   },
   "outputs": [
    {
     "data": {
      "text/plain": "           0         1         2          3\n0       Dale       Dan     Erwin       Rudy\n1     Glynda  Clarinda  Clarinda   Veronika\n2      Moses  Veronika     Zofia     Terese\n3     Olevia   Glennis    Jimmie    Glennis\n4     Jolynn    Romana    Kaycee   Veronika\n5     Libbie   Karissa       Bud    Alethea\n6     Olevia     Emile    Louann      Emile\n7  Catharine  Mellissa   Mozelle  Harriette\n8       Rudy  Lachelle   Alethea     Joseph\n9     Terese    Kaycee       Bud     Glynda",
      "text/html": "<div>\n<style scoped>\n    .dataframe tbody tr th:only-of-type {\n        vertical-align: middle;\n    }\n\n    .dataframe tbody tr th {\n        vertical-align: top;\n    }\n\n    .dataframe thead th {\n        text-align: right;\n    }\n</style>\n<table border=\"1\" class=\"dataframe\">\n  <thead>\n    <tr style=\"text-align: right;\">\n      <th></th>\n      <th>0</th>\n      <th>1</th>\n      <th>2</th>\n      <th>3</th>\n    </tr>\n  </thead>\n  <tbody>\n    <tr>\n      <th>0</th>\n      <td>Dale</td>\n      <td>Dan</td>\n      <td>Erwin</td>\n      <td>Rudy</td>\n    </tr>\n    <tr>\n      <th>1</th>\n      <td>Glynda</td>\n      <td>Clarinda</td>\n      <td>Clarinda</td>\n      <td>Veronika</td>\n    </tr>\n    <tr>\n      <th>2</th>\n      <td>Moses</td>\n      <td>Veronika</td>\n      <td>Zofia</td>\n      <td>Terese</td>\n    </tr>\n    <tr>\n      <th>3</th>\n      <td>Olevia</td>\n      <td>Glennis</td>\n      <td>Jimmie</td>\n      <td>Glennis</td>\n    </tr>\n    <tr>\n      <th>4</th>\n      <td>Jolynn</td>\n      <td>Romana</td>\n      <td>Kaycee</td>\n      <td>Veronika</td>\n    </tr>\n    <tr>\n      <th>5</th>\n      <td>Libbie</td>\n      <td>Karissa</td>\n      <td>Bud</td>\n      <td>Alethea</td>\n    </tr>\n    <tr>\n      <th>6</th>\n      <td>Olevia</td>\n      <td>Emile</td>\n      <td>Louann</td>\n      <td>Emile</td>\n    </tr>\n    <tr>\n      <th>7</th>\n      <td>Catharine</td>\n      <td>Mellissa</td>\n      <td>Mozelle</td>\n      <td>Harriette</td>\n    </tr>\n    <tr>\n      <th>8</th>\n      <td>Rudy</td>\n      <td>Lachelle</td>\n      <td>Alethea</td>\n      <td>Joseph</td>\n    </tr>\n    <tr>\n      <th>9</th>\n      <td>Terese</td>\n      <td>Kaycee</td>\n      <td>Bud</td>\n      <td>Glynda</td>\n    </tr>\n  </tbody>\n</table>\n</div>"
     },
     "execution_count": 2,
     "metadata": {},
     "output_type": "execute_result"
    }
   ],
   "source": [
    "import pandas as pd\n",
    "from src.tournament import Table, Player\n",
    "\n",
    "worksheet = gc.open('Sample Data Spreadsheet').worksheet(\"Games\")\n",
    "\n",
    "games = pd.DataFrame.from_records(worksheet.get(\"Games\"))\n",
    "players = pd.DataFrame.from_records(worksheet.get(\"Players\"))\n",
    "waiting_players_list = pd.DataFrame.from_records(worksheet.get(\"WaitingPlayers\"))\n",
    "\n",
    "games.head(10)"
   ]
  },
  {
   "cell_type": "code",
   "execution_count": 3,
   "metadata": {
    "scrolled": true
   },
   "outputs": [
    {
     "name": "stdout",
     "output_type": "stream",
     "text": [
      "Tables = 557, Players = 50\n"
     ]
    }
   ],
   "source": [
    "from src.tournament import Table, Player\n",
    "\n",
    "player_history = {}\n",
    "def init_player_history(name):\n",
    "    player_history[name] = Player(name)\n",
    "    \n",
    "waiting_players = {}\n",
    "def init_waiting_players(name):\n",
    "    waiting_players[name] = True\n",
    "\n",
    "for i, player in players.iterrows():\n",
    "    init_player_history(player[0])\n",
    "\n",
    "games_with_player = games.applymap(lambda x: player_history[x])\n",
    "games_with_tables = games_with_player.apply(lambda game: Table(players=game), axis=1)\n",
    "\n",
    "games_with_tables.head(10)\n",
    "\n",
    "print(f'Tables = {games_with_tables.shape[0]}, Players = {len(players)}')"
   ]
  },
  {
   "cell_type": "code",
   "execution_count": 4,
   "metadata": {
    "pycharm": {
     "name": "#%%\n"
    }
   },
   "outputs": [
    {
     "data": {
      "text/plain": "         0\n0   Lucila\n1   Jolynn\n2   Joseph\n3   Jimmie\n4     Dale\n5  Alethea\n6    Onita\n7   Louann\n8   Lynsey\n9    Mamie",
      "text/html": "<div>\n<style scoped>\n    .dataframe tbody tr th:only-of-type {\n        vertical-align: middle;\n    }\n\n    .dataframe tbody tr th {\n        vertical-align: top;\n    }\n\n    .dataframe thead th {\n        text-align: right;\n    }\n</style>\n<table border=\"1\" class=\"dataframe\">\n  <thead>\n    <tr style=\"text-align: right;\">\n      <th></th>\n      <th>0</th>\n    </tr>\n  </thead>\n  <tbody>\n    <tr>\n      <th>0</th>\n      <td>Lucila</td>\n    </tr>\n    <tr>\n      <th>1</th>\n      <td>Jolynn</td>\n    </tr>\n    <tr>\n      <th>2</th>\n      <td>Joseph</td>\n    </tr>\n    <tr>\n      <th>3</th>\n      <td>Jimmie</td>\n    </tr>\n    <tr>\n      <th>4</th>\n      <td>Dale</td>\n    </tr>\n    <tr>\n      <th>5</th>\n      <td>Alethea</td>\n    </tr>\n    <tr>\n      <th>6</th>\n      <td>Onita</td>\n    </tr>\n    <tr>\n      <th>7</th>\n      <td>Louann</td>\n    </tr>\n    <tr>\n      <th>8</th>\n      <td>Lynsey</td>\n    </tr>\n    <tr>\n      <th>9</th>\n      <td>Mamie</td>\n    </tr>\n  </tbody>\n</table>\n</div>"
     },
     "execution_count": 4,
     "metadata": {},
     "output_type": "execute_result"
    }
   ],
   "source": [
    "def update_player_histories(table):\n",
    "    for player in table:\n",
    "        player.play_table(table)\n",
    "    return table\n",
    "\n",
    "tabled_games = games_with_tables.apply(update_player_histories)\n",
    "\n",
    "waiting_player_history = []\n",
    "\n",
    "for i, player in waiting_players_list.iterrows():\n",
    "    waiting_player_history.append(player_history[player[0]])\n",
    "\n",
    "waiting_players_list.head(10)"
   ]
  },
  {
   "cell_type": "code",
   "execution_count": 7,
   "metadata": {
    "pycharm": {
     "name": "#%%\n"
    }
   },
   "outputs": [
    {
     "name": "stdout",
     "output_type": "stream",
     "text": [
      "Best cost = 26.57765601225993\n",
      "[[Latoyia, Allena, Madeleine, Jimmie], [Ella, Clarinda, Terese, Romana], [Lucila, Alethea, Dale, Lynsey], [Nelida, Kaycee, Ellamae, Mamie], [Joseph, Rudy, Onita, Louann], [Jolynn, Erwin, See]]\n"
     ]
    }
   ],
   "source": [
    "from src.meta_heuristics import simulated_annealing_ensemble\n",
    "\n",
    "result, cost = simulated_annealing_ensemble(waiting_player_history, 4, 500, 500)\n",
    "\n",
    "print(f'Best cost = {cost}')\n",
    "print(result)\n",
    "\n"
   ]
  }
 ],
 "metadata": {
  "kernelspec": {
   "display_name": "Python 3",
   "language": "python",
   "name": "python3"
  },
  "language_info": {
   "codemirror_mode": {
    "name": "ipython",
    "version": 3
   },
   "file_extension": ".py",
   "mimetype": "text/x-python",
   "name": "python",
   "nbconvert_exporter": "python",
   "pygments_lexer": "ipython3",
   "version": "3.8.5"
  }
 },
 "nbformat": 4,
 "nbformat_minor": 1
}