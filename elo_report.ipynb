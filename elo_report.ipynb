{
 "cells": [
  {
   "cell_type": "code",
   "execution_count": 1,
   "metadata": {
    "collapsed": true
   },
   "outputs": [
    {
     "name": "stdout",
     "output_type": "stream",
     "text": [
      "Login successful\n"
     ]
    }
   ],
   "source": [
    "import gspread\n",
    "from os import path\n",
    "\n",
    "gc = gspread.service_account(filename='../oauth.json')\n",
    "print(\"Login successful\")"
   ]
  },
  {
   "cell_type": "code",
   "execution_count": 17,
   "outputs": [
    {
     "name": "stdout",
     "output_type": "stream",
     "text": [
      "Tables = 209, Players = 19\n"
     ]
    }
   ],
   "source": [
    "import pandas as pd\n",
    "from src.tournament import Table, Player\n",
    "\n",
    "worksheet = gc.open('tournament sheet').worksheet(\"Data\")\n",
    "\n",
    "games = pd.DataFrame.from_records(worksheet.get(\"B2:E210\"))\n",
    "\n",
    "players = {}\n",
    "\n",
    "def get_or_make_player(name):\n",
    "    player = players.get(name, Player(name))\n",
    "    players[name] = player\n",
    "    return player\n",
    "\n",
    "# Convert player strings to player objects\n",
    "games = games.applymap(get_or_make_player)\n",
    "# Create a table for each row.\n",
    "games = games.apply(lambda game: Table(players=game), axis=1)\n",
    "\n",
    "print(f'Tables = {games.shape[0]}, Players = {len(players)}')"
   ],
   "metadata": {
    "collapsed": false,
    "pycharm": {
     "name": "#%%\n"
    }
   }
  },
  {
   "cell_type": "code",
   "execution_count": 18,
   "outputs": [
    {
     "data": {
      "text/plain": "0    [{ \"name\": \"Joking101\", \"history: {\"Neiv3.14\":...\n1    [{ \"name\": \"DefinitelyNotKevin\", \"history: {\"J...\n2    [{ \"name\": \"DefinitelyNotKevin\", \"history: {\"J...\n3    [{ \"name\": \"Emerald\", \"history: {\"Joking101\": ...\n4    [{ \"name\": \"DefinitelyNotKevin\", \"history: {\"J...\ndtype: object"
     },
     "execution_count": 18,
     "metadata": {},
     "output_type": "execute_result"
    }
   ],
   "source": [
    "def update_player_histories(table):\n",
    "    for player in table:\n",
    "        player.play_table(table)\n",
    "\n",
    "# Play each table so player histories is populated\n",
    "games.apply(update_player_histories)\n",
    "\n",
    "games.head()"
   ],
   "metadata": {
    "collapsed": false,
    "pycharm": {
     "name": "#%%\n"
    }
   }
  }
 ],
 "metadata": {
  "kernelspec": {
   "name": "pycharm-536a6dbf",
   "language": "python",
   "display_name": "PyCharm (tournament_optimizer)"
  },
  "language_info": {
   "codemirror_mode": {
    "name": "ipython",
    "version": 2
   },
   "file_extension": ".py",
   "mimetype": "text/x-python",
   "name": "python",
   "nbconvert_exporter": "python",
   "pygments_lexer": "ipython2",
   "version": "2.7.6"
  }
 },
 "nbformat": 4,
 "nbformat_minor": 0
}